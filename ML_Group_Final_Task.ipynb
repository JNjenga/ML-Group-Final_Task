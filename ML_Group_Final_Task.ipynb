{
  "nbformat": 4,
  "nbformat_minor": 0,
  "metadata": {
    "colab": {
      "name": "ML Group Final Task",
      "provenance": [],
      "collapsed_sections": []
    },
    "kernelspec": {
      "name": "python3",
      "display_name": "Python 3"
    },
    "language_info": {
      "name": "python"
    }
  },
  "cells": [
    {
      "cell_type": "markdown",
      "metadata": {
        "id": "UN0RrKTskhsc"
      },
      "source": [
        "# **Flower Classification Model**\n",
        "\n"
      ]
    },
    {
      "cell_type": "markdown",
      "metadata": {
        "id": "GnZaY-LatkC6"
      },
      "source": [
        "### Import Dataset and Dependencies"
      ]
    },
    {
      "cell_type": "code",
      "metadata": {
        "id": "s-Z6upE8uTMI"
      },
      "source": [
        "# from google.colab import drive\n",
        "# drive.mount('/content/gdrive')"
      ],
      "execution_count": null,
      "outputs": []
    },
    {
      "cell_type": "code",
      "metadata": {
        "id": "2ESMSUWD6BNq"
      },
      "source": [
        "# !unzip /content/gdrive/MyDrive/flowers-dataset.zip -d /content/"
      ],
      "execution_count": null,
      "outputs": []
    },
    {
      "cell_type": "code",
      "metadata": {
        "id": "yZW_8gMd7S1d"
      },
      "source": [
        "import matplotlib.pyplot as plt\n",
        "import numpy as np\n",
        "import os\n",
        "import PIL\n",
        "import tensorflow as tf\n",
        "import pathlib\n",
        "from tensorflow import keras\n",
        "from tensorflow.keras import layers\n",
        "from tensorflow.keras.models import Sequential"
      ],
      "execution_count": null,
      "outputs": []
    },
    {
      "cell_type": "markdown",
      "metadata": {
        "id": "ZvNbMkbPjrIg"
      },
      "source": [
        "### Prepare Dataset ###"
      ]
    },
    {
      "cell_type": "code",
      "metadata": {
        "id": "EdFaGKeFtsCO"
      },
      "source": [
        "# Fetch flowers directory\n",
        "flowers_dataset = pathlib.Path(\"/content/flowers\")\n",
        "flowers_dataset"
      ],
      "execution_count": null,
      "outputs": []
    },
    {
      "cell_type": "code",
      "metadata": {
        "id": "Uj6RA1ZHJQac"
      },
      "source": [
        "# Confirm number of images\n",
        "no_of_images = len(list(flowers_dataset.glob('*/*.jpg')))\n",
        "no_of_images"
      ],
      "execution_count": null,
      "outputs": []
    },
    {
      "cell_type": "code",
      "metadata": {
        "id": "w47na5MSXNF1"
      },
      "source": [
        "# count no of categories\n",
        "categories = train_set.class_names\n",
        "len(categories)"
      ],
      "execution_count": null,
      "outputs": []
    },
    {
      "cell_type": "code",
      "metadata": {
        "id": "v1X1S1gyKaIo"
      },
      "source": [
        "# Create train set\n",
        "train_set = tf.keras.preprocessing.image_dataset_from_directory(\n",
        "  flowers_dataset,\n",
        "  validation_split=0.2,\n",
        "  subset=\"training\",\n",
        "  seed=42,\n",
        "  image_size=(180, 180),\n",
        "  batch_size=32)"
      ],
      "execution_count": null,
      "outputs": []
    },
    {
      "cell_type": "code",
      "metadata": {
        "id": "LGoDam29K4Zx"
      },
      "source": [
        "# Create validation set\n",
        "validation_set = tf.keras.preprocessing.image_dataset_from_directory(\n",
        "  flowers_dataset,\n",
        "  validation_split=0.2,\n",
        "  subset=\"validation\",\n",
        "  seed=42,\n",
        "  image_size=(180, 180),\n",
        "  batch_size=32)"
      ],
      "execution_count": null,
      "outputs": []
    },
    {
      "cell_type": "code",
      "metadata": {
        "id": "Yql3NBejMc2y"
      },
      "source": [
        "# Fetch flower categories\n",
        "categories = train_set.class_names\n",
        "print(categories)"
      ],
      "execution_count": null,
      "outputs": []
    },
    {
      "cell_type": "code",
      "metadata": {
        "id": "ZBe3dOw8Nnqd"
      },
      "source": [
        "# Remove bottlenecks while training model\n",
        "AUTOTUNE = tf.data.AUTOTUNE\n",
        "train_set = train_set.cache().shuffle(1000).prefetch(buffer_size=AUTOTUNE)\n",
        "validation_set = validation_set.cache().prefetch(buffer_size=AUTOTUNE)"
      ],
      "execution_count": null,
      "outputs": []
    },
    {
      "cell_type": "markdown",
      "metadata": {
        "id": "D12Q8VzDkJxl"
      },
      "source": [
        "###Standardize the data###"
      ]
    },
    {
      "cell_type": "code",
      "metadata": {
        "id": "_2RSl4aSO1zB"
      },
      "source": [
        "normalized_train_set = train_set.map(lambda x, y: (layers.experimental.preprocessing.Rescaling(1./255)(x), y))\n",
        "images, labels = next(iter(normalized_train_set))\n",
        "first_image = image_batch[0]\n",
        "print(np.min(first_image), np.max(first_image))\n"
      ],
      "execution_count": null,
      "outputs": []
    },
    {
      "cell_type": "markdown",
      "metadata": {
        "id": "m6gPM74dkT8E"
      },
      "source": [
        "### Create Model"
      ]
    },
    {
      "cell_type": "code",
      "metadata": {
        "id": "DclU3BvEWT6-"
      },
      "source": [
        "model = Sequential([\n",
        "  layers.experimental.preprocessing.Rescaling(1./255, input_shape=(180, 180, 3)),\n",
        "  layers.Conv2D(16, 3, padding='same', activation='relu'),\n",
        "  layers.MaxPooling2D(),\n",
        "  layers.Conv2D(32, 3, padding='same', activation='relu'),\n",
        "  layers.MaxPooling2D(),\n",
        "  layers.Conv2D(64, 3, padding='same', activation='relu'),\n",
        "  layers.MaxPooling2D(),\n",
        "  layers.Dropout(0.2),\n",
        "  layers.Flatten(),\n",
        "  layers.Dense(128, activation='relu'),\n",
        "  layers.Dense(len(categories))\n",
        "])"
      ],
      "execution_count": null,
      "outputs": []
    },
    {
      "cell_type": "code",
      "metadata": {
        "id": "GQeEa5k2X8Ub"
      },
      "source": [
        "model.compile(optimizer='adam',\n",
        "              loss=tf.keras.losses.SparseCategoricalCrossentropy(from_logits=True),\n",
        "              metrics=['accuracy'])"
      ],
      "execution_count": null,
      "outputs": []
    },
    {
      "cell_type": "code",
      "metadata": {
        "id": "oZNG4bgZX_W2"
      },
      "source": [
        "model.summary()"
      ],
      "execution_count": null,
      "outputs": []
    },
    {
      "cell_type": "markdown",
      "metadata": {
        "id": "bhECR7VeYG0m"
      },
      "source": [
        "### Training model"
      ]
    },
    {
      "cell_type": "code",
      "metadata": {
        "colab": {
          "base_uri": "https://localhost:8080/"
        },
        "id": "JDuwgMf0YJmb",
        "outputId": "f8f94c15-c649-4373-c40a-2d556d403300"
      },
      "source": [
        "epochs=10\n",
        "history = model.fit(\n",
        "  train_set,\n",
        "  validation_data=validation_set,\n",
        "  epochs=epochs\n",
        ")"
      ],
      "execution_count": null,
      "outputs": [
        {
          "output_type": "stream",
          "text": [
            "Epoch 1/10\n",
            "108/108 [==============================] - 76s 703ms/step - loss: 1.3461 - accuracy: 0.4270 - val_loss: 1.0470 - val_accuracy: 0.5689\n",
            "Epoch 2/10\n",
            "108/108 [==============================] - 75s 696ms/step - loss: 1.0138 - accuracy: 0.6083 - val_loss: 0.9865 - val_accuracy: 0.5956\n",
            "Epoch 3/10\n",
            "108/108 [==============================] - 75s 698ms/step - loss: 0.8447 - accuracy: 0.6795 - val_loss: 0.9130 - val_accuracy: 0.6304\n",
            "Epoch 4/10\n",
            "108/108 [==============================] - 76s 700ms/step - loss: 0.6635 - accuracy: 0.7548 - val_loss: 1.0535 - val_accuracy: 0.5991\n",
            "Epoch 5/10\n",
            "108/108 [==============================] - 76s 700ms/step - loss: 0.5038 - accuracy: 0.8214 - val_loss: 0.9653 - val_accuracy: 0.6454\n",
            "Epoch 6/10\n",
            "108/108 [==============================] - 76s 704ms/step - loss: 0.3052 - accuracy: 0.8990 - val_loss: 1.0849 - val_accuracy: 0.6582\n",
            "Epoch 7/10\n",
            "108/108 [==============================] - 76s 703ms/step - loss: 0.1805 - accuracy: 0.9424 - val_loss: 1.4644 - val_accuracy: 0.6269\n"
          ],
          "name": "stdout"
        }
      ]
    },
    {
      "cell_type": "code",
      "metadata": {
        "id": "rXkrKtycYS5k"
      },
      "source": [
        "acc = history.history['accuracy']\n",
        "val_acc = history.history['val_accuracy']\n",
        "\n",
        "loss = history.history['loss']\n",
        "val_loss = history.history['val_loss']\n",
        "\n",
        "epochs_range = range(epochs)\n",
        "\n",
        "plt.figure(figsize=(8, 8))\n",
        "plt.subplot(1, 2, 1)\n",
        "plt.plot(epochs_range, acc, label='Training Accuracy')\n",
        "plt.plot(epochs_range, val_acc, label='Validation Accuracy')\n",
        "plt.legend(loc='lower right')\n",
        "plt.title('Training and Validation Accuracy')\n",
        "\n",
        "plt.subplot(1, 2, 2)\n",
        "plt.plot(epochs_range, loss, label='Training Loss')\n",
        "plt.plot(epochs_range, val_loss, label='Validation Loss')\n",
        "plt.legend(loc='upper right')\n",
        "plt.title('Training and Validation Loss')\n",
        "plt.show()"
      ],
      "execution_count": null,
      "outputs": []
    }
  ]
}